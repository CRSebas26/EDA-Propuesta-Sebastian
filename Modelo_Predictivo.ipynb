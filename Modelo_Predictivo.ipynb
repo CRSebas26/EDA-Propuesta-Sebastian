{
  "nbformat": 4,
  "nbformat_minor": 0,
  "metadata": {
    "colab": {
      "provenance": []
    },
    "kernelspec": {
      "name": "python3",
      "display_name": "Python 3"
    },
    "language_info": {
      "name": "python"
    }
  },
  "cells": [
    {
      "cell_type": "markdown",
      "source": [
        "# 🎯 Proyecto de Modelado Predictivo de Resultados de Fútbol (Soccer Dataset de Kaggle)\n",
        "\n",
        "## ✅ Descripción del Proyecto\n",
        "En este proyecto se realiza un análisis predictivo usando el dataset de fútbol disponible en Kaggle ([Soccer Database](https://www.kaggle.com/datasets/hugomathien/soccer)), que contiene resultados detallados de partidos de fútbol entre 2008 y 2016.\n",
        "\n",
        "El objetivo principal es crear **dos tipos de modelos de aprendizaje supervisado**:\n",
        "1. **Clasificación:** Predecir el resultado del partido (`match_result`: Victoria Local, Empate o Victoria Visitante).\n",
        "2. **Regresión:** Predecir la diferencia de goles en un partido (`goal_difference`).\n",
        "\n",
        "---\n",
        "\n",
        "## ✅ Flujo de Trabajo\n",
        "\n",
        "### 1. Descarga y Preparación de Datos\n",
        "- Dataset descargado directamente desde Kaggle mediante `kagglehub`.\n",
        "- Se utilizó el archivo `match.csv` que contiene los resultados de los partidos.\n",
        "\n",
        "### 2. Creación de Variables Objetivo\n",
        "- **Diferencia de goles (`goal_difference`):**\n",
        "  \n",
        "  \\[\n",
        "  \\text{goal\\_difference} = \\text{home\\_team\\_goal} - \\text{away\\_team\\_goal}\n",
        "  \\]\n",
        "\n",
        "- **Resultado del partido (`match_result`):**\n",
        "  - **Home Win:** Victoria del equipo local.\n",
        "  - **Draw:** Empate.\n",
        "  - **Away Win:** Victoria del equipo visitante.\n",
        "\n",
        "### 3. Selección de Variables Predictoras\n",
        "- Goles del equipo visitante (`away_team_goal`).\n",
        "- Año del partido (`year`).\n",
        "\n",
        "---\n",
        "\n",
        "## ✅ Modelos Construidos\n",
        "\n",
        "### 📌 Modelos de Clasificación\n",
        "**Objetivo:** Predecir el resultado del partido.\n",
        "\n",
        "1. **K-Nearest Neighbors Classifier (KNN)**\n",
        "2. **Regresión Logística**\n",
        "\n",
        "#### Métricas:\n",
        "- **Accuracy** (precisión global).\n",
        "- Reporte de clasificación (precisión, recall y F1-score).\n",
        "\n",
        "#### 📋 Resultados:\n",
        "##### 🔹 KNN Classifier:\n",
        "- **Accuracy:** 56.6%\n",
        "- **Reporte:**\n",
        "\n"
      ],
      "metadata": {
        "id": "moVZOn3c3Svi"
      }
    },
    {
      "cell_type": "code",
      "source": [
        "import kagglehub\n",
        "\n",
        "# Download latest version\n",
        "path = kagglehub.dataset_download(\"hugomathien/soccer\")\n",
        "\n",
        "print(\"Path to dataset files:\", path)"
      ],
      "metadata": {
        "colab": {
          "base_uri": "https://localhost:8080/"
        },
        "id": "HjlHrK872wb6",
        "outputId": "56a4f102-f9cc-4393-9809-dcd7c8e687d0"
      },
      "execution_count": 19,
      "outputs": [
        {
          "output_type": "stream",
          "name": "stdout",
          "text": [
            "Path to dataset files: /kaggle/input/soccer\n"
          ]
        }
      ]
    },
    {
      "cell_type": "markdown",
      "source": [],
      "metadata": {
        "id": "ACsVEgF03PTK"
      }
    },
    {
      "cell_type": "code",
      "source": [
        "import pandas as pd\n",
        "import sqlite3\n",
        "import os\n",
        "\n",
        "# Define the path to the database file\n",
        "path_to_downloaded_dataset_dir = '/kaggle/input/soccer'\n",
        "DB_PATH = os.path.join(path_to_downloaded_dataset_dir, 'database.sqlite')\n",
        "\n",
        "# Conectar a la base de datos SQLite y cargar la tabla 'Match'\n",
        "try:\n",
        "    conn = sqlite3.connect(DB_PATH)\n",
        "    df_match = pd.read_sql_query(\"SELECT * FROM Match;\", conn)\n",
        "    conn.close()\n",
        "    print(\"DataFrame df_match loaded successfully.\")\n",
        "except sqlite3.Error as e:\n",
        "    print(f\"Error loading database tables: {e}\")\n",
        "    df_match = None # Ensure df_match is None if loading fails\n",
        "\n",
        "# Mostrar las primeras filas para verificar que todo esté bien\n",
        "if df_match is not None:\n",
        "    print(df_match.head())\n",
        "else:\n",
        "    print(\"df_match could not be loaded.\")"
      ],
      "metadata": {
        "colab": {
          "base_uri": "https://localhost:8080/"
        },
        "id": "2YDfkjda2zvS",
        "outputId": "6f0543b9-51f2-4a43-b877-7e25f87bb0f0"
      },
      "execution_count": 21,
      "outputs": [
        {
          "output_type": "stream",
          "name": "stdout",
          "text": [
            "DataFrame df_match loaded successfully.\n",
            "   id  country_id  league_id     season  stage                 date  \\\n",
            "0   1           1          1  2008/2009      1  2008-08-17 00:00:00   \n",
            "1   2           1          1  2008/2009      1  2008-08-16 00:00:00   \n",
            "2   3           1          1  2008/2009      1  2008-08-16 00:00:00   \n",
            "3   4           1          1  2008/2009      1  2008-08-17 00:00:00   \n",
            "4   5           1          1  2008/2009      1  2008-08-16 00:00:00   \n",
            "\n",
            "   match_api_id  home_team_api_id  away_team_api_id  home_team_goal  ...  \\\n",
            "0        492473              9987              9993               1  ...   \n",
            "1        492474             10000              9994               0  ...   \n",
            "2        492475              9984              8635               0  ...   \n",
            "3        492476              9991              9998               5  ...   \n",
            "4        492477              7947              9985               1  ...   \n",
            "\n",
            "    SJA   VCH   VCD   VCA   GBH   GBD   GBA   BSH   BSD   BSA  \n",
            "0  4.00  1.65  3.40  4.50  1.78  3.25  4.00  1.73  3.40  4.20  \n",
            "1  3.80  2.00  3.25  3.25  1.85  3.25  3.75  1.91  3.25  3.60  \n",
            "2  2.50  2.35  3.25  2.65  2.50  3.20  2.50  2.30  3.20  2.75  \n",
            "3  7.50  1.45  3.75  6.50  1.50  3.75  5.50  1.44  3.75  6.50  \n",
            "4  1.73  4.50  3.40  1.65  4.50  3.50  1.65  4.75  3.30  1.67  \n",
            "\n",
            "[5 rows x 115 columns]\n"
          ]
        }
      ]
    },
    {
      "cell_type": "code",
      "source": [
        "# Crear variables objetivo\n",
        "df_match['goal_difference'] = df_match['home_team_goal'] - df_match['away_team_goal']\n",
        "\n",
        "def classify_result(diff):\n",
        "    if diff > 0:\n",
        "        return 'Home Win'\n",
        "    elif diff < 0:\n",
        "        return 'Away Win'\n",
        "    else:\n",
        "        return 'Draw'\n",
        "\n",
        "df_match['match_result'] = df_match['goal_difference'].apply(classify_result)\n",
        "\n",
        "# Variables predictoras\n",
        "df_match['year'] = pd.to_datetime(df_match['date']).dt.year\n",
        "X = df_match[['away_team_goal', 'year']].fillna(0)\n",
        "\n",
        "# Variables objetivo\n",
        "y_class = df_match['match_result']  # Clasificación\n",
        "y_reg = df_match['goal_difference']  # Regresión\n",
        "\n",
        "# División de datos\n",
        "from sklearn.model_selection import train_test_split\n",
        "X_train, X_test, y_train_class, y_test_class = train_test_split(X, y_class, test_size=0.2, random_state=42)\n",
        "_, _, y_train_reg, y_test_reg = train_test_split(X, y_reg, test_size=0.2, random_state=42)\n",
        "\n",
        "# Escalado\n",
        "from sklearn.preprocessing import StandardScaler\n",
        "scaler = StandardScaler()\n",
        "X_train_scaled = scaler.fit_transform(X_train)\n",
        "X_test_scaled = scaler.transform(X_test)\n",
        "\n",
        "# Modelos\n",
        "from sklearn.linear_model import LogisticRegression, LinearRegression\n",
        "from sklearn.neighbors import KNeighborsClassifier, KNeighborsRegressor\n",
        "from sklearn.metrics import accuracy_score, classification_report, mean_squared_error, r2_score\n",
        "\n",
        "# Clasificación\n",
        "knn_clf = KNeighborsClassifier(n_neighbors=5)\n",
        "knn_clf.fit(X_train_scaled, y_train_class)\n",
        "y_pred_knn_class = knn_clf.predict(X_test_scaled)\n",
        "\n",
        "log_clf = LogisticRegression(max_iter=1000)\n",
        "log_clf.fit(X_train_scaled, y_train_class)\n",
        "y_pred_log_class = log_clf.predict(X_test_scaled)\n",
        "\n",
        "print(\"=== KNN Classifier ===\")\n",
        "print(\"Accuracy:\", accuracy_score(y_test_class, y_pred_knn_class))\n",
        "print(classification_report(y_test_class, y_pred_knn_class))\n",
        "\n",
        "print(\"=== Logistic Regression ===\")\n",
        "print(\"Accuracy:\", accuracy_score(y_test_class, y_pred_log_class))\n",
        "print(classification_report(y_test_class, y_pred_log_class))\n",
        "\n",
        "# Regresión\n",
        "knn_reg = KNeighborsRegressor(n_neighbors=5)\n",
        "knn_reg.fit(X_train_scaled, y_train_reg)\n",
        "y_pred_knn_reg = knn_reg.predict(X_test_scaled)\n",
        "\n",
        "lr_reg = LinearRegression()\n",
        "lr_reg.fit(X_train_scaled, y_train_reg)\n",
        "y_pred_lr_reg = lr_reg.predict(X_test_scaled)\n",
        "\n",
        "print(\"\\n=== KNN Regressor ===\")\n",
        "print(\"MSE:\", mean_squared_error(y_test_reg, y_pred_knn_reg))\n",
        "print(\"R2:\", r2_score(y_test_reg, y_pred_knn_reg))\n",
        "\n",
        "print(\"=== Linear Regression ===\")\n",
        "print(\"MSE:\", mean_squared_error(y_test_reg, y_pred_lr_reg))\n",
        "print(\"R2:\", r2_score(y_test_reg, y_pred_lr_reg))\n"
      ],
      "metadata": {
        "colab": {
          "base_uri": "https://localhost:8080/"
        },
        "id": "dA0UHSK72876",
        "outputId": "b034eecb-741c-4acf-ea2a-5002e03c9230"
      },
      "execution_count": 22,
      "outputs": [
        {
          "output_type": "stream",
          "name": "stdout",
          "text": [
            "=== KNN Classifier ===\n",
            "Accuracy: 0.5660123171670516\n",
            "              precision    recall  f1-score   support\n",
            "\n",
            "    Away Win       0.53      0.74      0.62      1470\n",
            "        Draw       0.30      0.19      0.24      1317\n",
            "    Home Win       0.69      0.67      0.68      2409\n",
            "\n",
            "    accuracy                           0.57      5196\n",
            "   macro avg       0.51      0.53      0.51      5196\n",
            "weighted avg       0.55      0.57      0.55      5196\n",
            "\n",
            "=== Logistic Regression ===\n",
            "Accuracy: 0.6339491916859122\n"
          ]
        },
        {
          "output_type": "stream",
          "name": "stderr",
          "text": [
            "/usr/local/lib/python3.11/dist-packages/sklearn/metrics/_classification.py:1565: UndefinedMetricWarning: Precision is ill-defined and being set to 0.0 in labels with no predicted samples. Use `zero_division` parameter to control this behavior.\n",
            "  _warn_prf(average, modifier, f\"{metric.capitalize()} is\", len(result))\n",
            "/usr/local/lib/python3.11/dist-packages/sklearn/metrics/_classification.py:1565: UndefinedMetricWarning: Precision is ill-defined and being set to 0.0 in labels with no predicted samples. Use `zero_division` parameter to control this behavior.\n",
            "  _warn_prf(average, modifier, f\"{metric.capitalize()} is\", len(result))\n",
            "/usr/local/lib/python3.11/dist-packages/sklearn/metrics/_classification.py:1565: UndefinedMetricWarning: Precision is ill-defined and being set to 0.0 in labels with no predicted samples. Use `zero_division` parameter to control this behavior.\n",
            "  _warn_prf(average, modifier, f\"{metric.capitalize()} is\", len(result))\n"
          ]
        },
        {
          "output_type": "stream",
          "name": "stdout",
          "text": [
            "              precision    recall  f1-score   support\n",
            "\n",
            "    Away Win       0.68      0.75      0.71      1470\n",
            "        Draw       0.00      0.00      0.00      1317\n",
            "    Home Win       0.61      0.91      0.73      2409\n",
            "\n",
            "    accuracy                           0.63      5196\n",
            "   macro avg       0.43      0.55      0.48      5196\n",
            "weighted avg       0.48      0.63      0.54      5196\n",
            "\n",
            "\n",
            "=== KNN Regressor ===\n",
            "MSE: 1.8655735180908393\n",
            "R2: 0.4198814864680519\n",
            "=== Linear Regression ===\n",
            "MSE: 1.6648416514070326\n",
            "R2: 0.4823010432369923\n"
          ]
        }
      ]
    },
    {
      "cell_type": "markdown",
      "source": [
        "## ✅ Conclusiones Finales\n",
        "\n",
        "- El mejor modelo de **clasificación** fue la **Regresión Logística**, alcanzando un **63.4% de precisión (accuracy)** general. Sin embargo, mostró limitaciones importantes:\n",
        "  - No logró predecir correctamente los empates (`Draw`), como se refleja en la precisión y recall de 0 para esa clase.\n",
        "  - Esto indica que con las variables actuales (goles del visitante y año del partido), el modelo no tiene suficiente información para distinguir los empates.\n",
        "\n",
        "- El mejor modelo de **regresión** fue la **Regresión Lineal**, obteniendo:\n",
        "  - Un **MSE (Error Cuadrático Medio)** más bajo: **1.66**.\n",
        "  - Un mejor **R² Score**: **0.48**, lo que indica un ajuste moderado al predecir la diferencia de goles.\n",
        "\n",
        "- En ambas tareas (clasificación y regresión), los modelos basados en K-Nearest Neighbors (KNN) tuvieron un rendimiento inferior comparado con los modelos lineales.\n",
        "\n",
        "---\n",
        "\n",
        "### 🔑 Reflexión Final:\n",
        "- Las variables usadas en este proyecto fueron muy básicas (goles del visitante y año), lo cual limita la capacidad predictiva, sobre todo para casos como el empate.\n",
        "- A pesar de esto, el proyecto demuestra cómo aplicar técnicas de Machine Learning tanto para **clasificación** como para **regresión** en un contexto deportivo.\n",
        "- Incorporar más variables (estadísticas de equipos, ratings, posesión, localía, entre otras) mejoraría considerablemente los resultados.\n",
        "- También se pueden probar otros modelos avanzados como Random Forest, XGBo\n"
      ],
      "metadata": {
        "id": "zX_K_y_h5nMZ"
      }
    }
  ]
}